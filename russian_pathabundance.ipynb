{
 "cells": [
  {
   "cell_type": "code",
   "execution_count": 249,
   "id": "778ccd92-1aaf-4c8a-983a-251d0c6e00bd",
   "metadata": {},
   "outputs": [],
   "source": [
    "import numpy as np\n",
    "import pandas as pd\n",
    "import matplotlib.pyplot as plt\n",
    "import seaborn as sns\n",
    "from collections import Counter\n",
    "from skbio.diversity.alpha import shannon\n",
    "from scipy import stats\n",
    "from scipy.spatial.distance import braycurtis, pdist, squareform\n",
    "from skbio.stats.ordination import pcoa\n",
    "from skbio.stats.distance import permanova\n",
    "from skbio import DistanceMatrix"
   ]
  },
  {
   "cell_type": "markdown",
   "id": "9c2c8d57-0f7e-42db-be26-6ffe3ff42bd2",
   "metadata": {},
   "source": [
    "# Read Data"
   ]
  },
  {
   "cell_type": "code",
   "execution_count": 250,
   "id": "d389fe18",
   "metadata": {},
   "outputs": [],
   "source": [
    "# paab = pd.read_csv(\"/home/PaulinaSk/mgr/pathways_ab.tsv\", sep='\\t', index_col=0)\n",
    "# metadata = pd.read_csv(\"/home/PaulinaSk/mgr/bubabiba/not_MS_metadata.csv\")\n",
    "# metadata = pd.read_csv(\"/home/PaulinaSk/mgr/bubabiba/paired_imsms.csv\")\n",
    "metadata = pd.read_csv(\"/home/PaulinaSk/mgr/russian_dataset/processed_ru.csv\")"
   ]
  },
  {
   "cell_type": "code",
   "execution_count": 251,
   "id": "65d0eaa4",
   "metadata": {},
   "outputs": [
    {
     "data": {
      "text/plain": [
       "(74, 16)"
      ]
     },
     "execution_count": 251,
     "metadata": {},
     "output_type": "execute_result"
    }
   ],
   "source": [
    "metadata.shape"
   ]
  },
  {
   "cell_type": "code",
   "execution_count": 252,
   "id": "d7bc8acc",
   "metadata": {},
   "outputs": [
    {
     "data": {
      "text/plain": [
       "True"
      ]
     },
     "execution_count": 252,
     "metadata": {},
     "output_type": "execute_result"
    }
   ],
   "source": [
    "metadata[\"NCBI_accession\"].is_unique"
   ]
  },
  {
   "cell_type": "code",
   "execution_count": 253,
   "id": "29bcd2ef",
   "metadata": {},
   "outputs": [],
   "source": [
    "# bez nagłówków\n",
    "paab = pd.read_csv(\"/home/PaulinaSk/mgr/Filtered_pathabundance/russian_pathways.tsv\", \n",
    "                   sep=\"\\t\", header=None)"
   ]
  },
  {
   "cell_type": "code",
   "execution_count": 254,
   "id": "8146c556",
   "metadata": {},
   "outputs": [
    {
     "data": {
      "text/html": [
       "<div>\n",
       "<style scoped>\n",
       "    .dataframe tbody tr th:only-of-type {\n",
       "        vertical-align: middle;\n",
       "    }\n",
       "\n",
       "    .dataframe tbody tr th {\n",
       "        vertical-align: top;\n",
       "    }\n",
       "\n",
       "    .dataframe thead th {\n",
       "        text-align: right;\n",
       "    }\n",
       "</style>\n",
       "<table border=\"1\" class=\"dataframe\">\n",
       "  <thead>\n",
       "    <tr style=\"text-align: right;\">\n",
       "      <th></th>\n",
       "      <th>0</th>\n",
       "      <th>1</th>\n",
       "      <th>2</th>\n",
       "      <th>3</th>\n",
       "      <th>4</th>\n",
       "      <th>5</th>\n",
       "      <th>6</th>\n",
       "      <th>7</th>\n",
       "      <th>8</th>\n",
       "      <th>9</th>\n",
       "      <th>...</th>\n",
       "      <th>483</th>\n",
       "      <th>484</th>\n",
       "      <th>485</th>\n",
       "      <th>486</th>\n",
       "      <th>487</th>\n",
       "      <th>488</th>\n",
       "      <th>489</th>\n",
       "      <th>490</th>\n",
       "      <th>491</th>\n",
       "      <th>492</th>\n",
       "    </tr>\n",
       "  </thead>\n",
       "  <tbody>\n",
       "    <tr>\n",
       "      <th>0</th>\n",
       "      <td>NaN</td>\n",
       "      <td>UNMAPPED</td>\n",
       "      <td>UNINTEGRATED</td>\n",
       "      <td>PWY-7238: sucrose biosynthesis II</td>\n",
       "      <td>PWY-5941: glycogen degradation II</td>\n",
       "      <td>PWY-1042: glycolysis IV</td>\n",
       "      <td>VALSYN-PWY: L-valine biosynthesis</td>\n",
       "      <td>GLYCOGENSYNTH-PWY: glycogen biosynthesis I (fr...</td>\n",
       "      <td>PWY-7221: guanosine ribonucleotides de novo bi...</td>\n",
       "      <td>COMPLETE-ARO-PWY: superpathway of aromatic ami...</td>\n",
       "      <td>...</td>\n",
       "      <td>DHGLUCONATE-PYR-CAT-PWY: glucose degradation (...</td>\n",
       "      <td>PWY-5654: 2-amino-3-carboxymuconate semialdehy...</td>\n",
       "      <td>P101-PWY: ectoine biosynthesis</td>\n",
       "      <td>PWY-1501: mandelate degradation I</td>\n",
       "      <td>PWY-5647: 2-nitrobenzoate degradation I</td>\n",
       "      <td>DENITRIFICATION-PWY: nitrate reduction I (deni...</td>\n",
       "      <td>PWY-5156: superpathway of fatty acid biosynthe...</td>\n",
       "      <td>PWY-7413: dTDP-6-deoxy-&amp;alpha;-D-allose biosyn...</td>\n",
       "      <td>PWY-6891: thiazole component of thiamine dipho...</td>\n",
       "      <td>PWY-6565: superpathway of polyamine biosynthes...</td>\n",
       "    </tr>\n",
       "    <tr>\n",
       "      <th>1</th>\n",
       "      <td>SRR16681848</td>\n",
       "      <td>2587721.753987052</td>\n",
       "      <td>11731309.863923514</td>\n",
       "      <td>12766.9285572038</td>\n",
       "      <td>10936.2546553062</td>\n",
       "      <td>10026.5793348412</td>\n",
       "      <td>9680.2258012062</td>\n",
       "      <td>9616.4470700503</td>\n",
       "      <td>9223.3994498143</td>\n",
       "      <td>9078.0217560904</td>\n",
       "      <td>...</td>\n",
       "      <td>0.0</td>\n",
       "      <td>0.0</td>\n",
       "      <td>0.0</td>\n",
       "      <td>0.0</td>\n",
       "      <td>0.0</td>\n",
       "      <td>0.0</td>\n",
       "      <td>0.0</td>\n",
       "      <td>0.0</td>\n",
       "      <td>0.0</td>\n",
       "      <td>0.0</td>\n",
       "    </tr>\n",
       "    <tr>\n",
       "      <th>2</th>\n",
       "      <td>SRR16681822</td>\n",
       "      <td>3727462.9988142527</td>\n",
       "      <td>7355933.836443349</td>\n",
       "      <td>8115.3766707089</td>\n",
       "      <td>5811.856881152</td>\n",
       "      <td>6134.7745873207</td>\n",
       "      <td>5730.4778006776</td>\n",
       "      <td>6532.6930849133</td>\n",
       "      <td>7195.0635737154</td>\n",
       "      <td>6169.3925431946</td>\n",
       "      <td>...</td>\n",
       "      <td>0.0</td>\n",
       "      <td>0.0</td>\n",
       "      <td>0.0</td>\n",
       "      <td>0.0</td>\n",
       "      <td>0.0</td>\n",
       "      <td>0.0</td>\n",
       "      <td>0.0</td>\n",
       "      <td>0.0</td>\n",
       "      <td>0.0</td>\n",
       "      <td>0.0</td>\n",
       "    </tr>\n",
       "    <tr>\n",
       "      <th>3</th>\n",
       "      <td>SRR16681836</td>\n",
       "      <td>2581129.5677598966</td>\n",
       "      <td>9327095.36471004</td>\n",
       "      <td>8421.7309436394</td>\n",
       "      <td>7054.4665250773</td>\n",
       "      <td>8066.5828663364</td>\n",
       "      <td>7511.2131691955</td>\n",
       "      <td>7123.5017607866</td>\n",
       "      <td>7747.9381061567</td>\n",
       "      <td>7338.7872326035</td>\n",
       "      <td>...</td>\n",
       "      <td>0.0</td>\n",
       "      <td>0.0</td>\n",
       "      <td>0.0</td>\n",
       "      <td>0.0</td>\n",
       "      <td>0.0</td>\n",
       "      <td>0.0</td>\n",
       "      <td>0.0</td>\n",
       "      <td>0.0</td>\n",
       "      <td>0.0</td>\n",
       "      <td>0.0</td>\n",
       "    </tr>\n",
       "    <tr>\n",
       "      <th>4</th>\n",
       "      <td>SRR16681840</td>\n",
       "      <td>2387284.7460135026</td>\n",
       "      <td>9370981.656455873</td>\n",
       "      <td>7029.748693316</td>\n",
       "      <td>6963.7608524432</td>\n",
       "      <td>8172.805922999</td>\n",
       "      <td>7889.6851789146</td>\n",
       "      <td>6941.9654078347</td>\n",
       "      <td>7294.2192615045</td>\n",
       "      <td>5757.7168201774</td>\n",
       "      <td>...</td>\n",
       "      <td>0.0</td>\n",
       "      <td>0.0</td>\n",
       "      <td>0.0</td>\n",
       "      <td>0.0</td>\n",
       "      <td>0.0</td>\n",
       "      <td>0.0</td>\n",
       "      <td>0.0</td>\n",
       "      <td>0.0</td>\n",
       "      <td>0.0</td>\n",
       "      <td>0.0</td>\n",
       "    </tr>\n",
       "  </tbody>\n",
       "</table>\n",
       "<p>5 rows × 493 columns</p>\n",
       "</div>"
      ],
      "text/plain": [
       "           0                   1                   2    \\\n",
       "0          NaN            UNMAPPED        UNINTEGRATED   \n",
       "1  SRR16681848   2587721.753987052  11731309.863923514   \n",
       "2  SRR16681822  3727462.9988142527   7355933.836443349   \n",
       "3  SRR16681836  2581129.5677598966    9327095.36471004   \n",
       "4  SRR16681840  2387284.7460135026   9370981.656455873   \n",
       "\n",
       "                                 3                                  4    \\\n",
       "0  PWY-7238: sucrose biosynthesis II  PWY-5941: glycogen degradation II   \n",
       "1                   12766.9285572038                   10936.2546553062   \n",
       "2                    8115.3766707089                     5811.856881152   \n",
       "3                    8421.7309436394                    7054.4665250773   \n",
       "4                     7029.748693316                    6963.7608524432   \n",
       "\n",
       "                       5                                  6    \\\n",
       "0  PWY-1042: glycolysis IV  VALSYN-PWY: L-valine biosynthesis   \n",
       "1         10026.5793348412                    9680.2258012062   \n",
       "2          6134.7745873207                    5730.4778006776   \n",
       "3          8066.5828663364                    7511.2131691955   \n",
       "4           8172.805922999                    7889.6851789146   \n",
       "\n",
       "                                                 7    \\\n",
       "0  GLYCOGENSYNTH-PWY: glycogen biosynthesis I (fr...   \n",
       "1                                    9616.4470700503   \n",
       "2                                    6532.6930849133   \n",
       "3                                    7123.5017607866   \n",
       "4                                    6941.9654078347   \n",
       "\n",
       "                                                 8    \\\n",
       "0  PWY-7221: guanosine ribonucleotides de novo bi...   \n",
       "1                                    9223.3994498143   \n",
       "2                                    7195.0635737154   \n",
       "3                                    7747.9381061567   \n",
       "4                                    7294.2192615045   \n",
       "\n",
       "                                                 9    ...  \\\n",
       "0  COMPLETE-ARO-PWY: superpathway of aromatic ami...  ...   \n",
       "1                                    9078.0217560904  ...   \n",
       "2                                    6169.3925431946  ...   \n",
       "3                                    7338.7872326035  ...   \n",
       "4                                    5757.7168201774  ...   \n",
       "\n",
       "                                                 483  \\\n",
       "0  DHGLUCONATE-PYR-CAT-PWY: glucose degradation (...   \n",
       "1                                                0.0   \n",
       "2                                                0.0   \n",
       "3                                                0.0   \n",
       "4                                                0.0   \n",
       "\n",
       "                                                 484  \\\n",
       "0  PWY-5654: 2-amino-3-carboxymuconate semialdehy...   \n",
       "1                                                0.0   \n",
       "2                                                0.0   \n",
       "3                                                0.0   \n",
       "4                                                0.0   \n",
       "\n",
       "                              485                                486  \\\n",
       "0  P101-PWY: ectoine biosynthesis  PWY-1501: mandelate degradation I   \n",
       "1                             0.0                                0.0   \n",
       "2                             0.0                                0.0   \n",
       "3                             0.0                                0.0   \n",
       "4                             0.0                                0.0   \n",
       "\n",
       "                                       487  \\\n",
       "0  PWY-5647: 2-nitrobenzoate degradation I   \n",
       "1                                      0.0   \n",
       "2                                      0.0   \n",
       "3                                      0.0   \n",
       "4                                      0.0   \n",
       "\n",
       "                                                 488  \\\n",
       "0  DENITRIFICATION-PWY: nitrate reduction I (deni...   \n",
       "1                                                0.0   \n",
       "2                                                0.0   \n",
       "3                                                0.0   \n",
       "4                                                0.0   \n",
       "\n",
       "                                                 489  \\\n",
       "0  PWY-5156: superpathway of fatty acid biosynthe...   \n",
       "1                                                0.0   \n",
       "2                                                0.0   \n",
       "3                                                0.0   \n",
       "4                                                0.0   \n",
       "\n",
       "                                                 490  \\\n",
       "0  PWY-7413: dTDP-6-deoxy-&alpha;-D-allose biosyn...   \n",
       "1                                                0.0   \n",
       "2                                                0.0   \n",
       "3                                                0.0   \n",
       "4                                                0.0   \n",
       "\n",
       "                                                 491  \\\n",
       "0  PWY-6891: thiazole component of thiamine dipho...   \n",
       "1                                                0.0   \n",
       "2                                                0.0   \n",
       "3                                                0.0   \n",
       "4                                                0.0   \n",
       "\n",
       "                                                 492  \n",
       "0  PWY-6565: superpathway of polyamine biosynthes...  \n",
       "1                                                0.0  \n",
       "2                                                0.0  \n",
       "3                                                0.0  \n",
       "4                                                0.0  \n",
       "\n",
       "[5 rows x 493 columns]"
      ]
     },
     "execution_count": 254,
     "metadata": {},
     "output_type": "execute_result"
    }
   ],
   "source": [
    "paab.head()"
   ]
  },
  {
   "cell_type": "markdown",
   "id": "4abc49b2",
   "metadata": {},
   "source": [
    "# Pathabundance"
   ]
  },
  {
   "cell_type": "code",
   "execution_count": 255,
   "id": "01cca532",
   "metadata": {},
   "outputs": [
    {
     "name": "stdout",
     "output_type": "stream",
     "text": [
      "Index(['NCBI_accession', 'UNMAPPED', 'UNINTEGRATED',\n",
      "       'PWY-7238: sucrose biosynthesis II',\n",
      "       'PWY-5941: glycogen degradation II'],\n",
      "      dtype='object')\n",
      "1    SRR16681848\n",
      "2    SRR16681822\n",
      "3    SRR16681836\n",
      "4    SRR16681840\n",
      "5    SRR16681828\n",
      "Name: NCBI_accession, dtype: object\n"
     ]
    }
   ],
   "source": [
    "# Pierwszy wiersz (wiersz 0) to nagłówki\n",
    "new_columns = [\"NCBI_accession\"] + paab.iloc[0, 1:].tolist()\n",
    "\n",
    "# Usuń pierwszy wiersz (nagłówki)\n",
    "paab = paab[1:]\n",
    "\n",
    "# Ustaw nowe kolumny\n",
    "paab.columns = new_columns\n",
    "\n",
    "# Teraz SampleID jest zwykłą kolumną\n",
    "# Przekształć pozostałe kolumny na wartości liczbowe\n",
    "for col in paab.columns[1:]:\n",
    "    paab[col] = pd.to_numeric(paab[col], errors='coerce')\n",
    "\n",
    "# Sprawdź — SampleID powinno być widoczne\n",
    "print(paab.columns[:5])\n",
    "print(paab[\"NCBI_accession\"].head())"
   ]
  },
  {
   "cell_type": "code",
   "execution_count": 256,
   "id": "63ab8e47",
   "metadata": {},
   "outputs": [],
   "source": [
    "paab = paab.set_index(\"NCBI_accession\")"
   ]
  },
  {
   "cell_type": "code",
   "execution_count": 257,
   "id": "4160dcd6",
   "metadata": {},
   "outputs": [],
   "source": [
    "metadata = metadata.set_index(\"NCBI_accession\")"
   ]
  },
  {
   "cell_type": "code",
   "execution_count": 258,
   "id": "c66c2e71",
   "metadata": {},
   "outputs": [
    {
     "data": {
      "text/html": [
       "<div>\n",
       "<style scoped>\n",
       "    .dataframe tbody tr th:only-of-type {\n",
       "        vertical-align: middle;\n",
       "    }\n",
       "\n",
       "    .dataframe tbody tr th {\n",
       "        vertical-align: top;\n",
       "    }\n",
       "\n",
       "    .dataframe thead th {\n",
       "        text-align: right;\n",
       "    }\n",
       "</style>\n",
       "<table border=\"1\" class=\"dataframe\">\n",
       "  <thead>\n",
       "    <tr style=\"text-align: right;\">\n",
       "      <th></th>\n",
       "      <th>UNMAPPED</th>\n",
       "      <th>UNINTEGRATED</th>\n",
       "      <th>PWY-7238: sucrose biosynthesis II</th>\n",
       "      <th>PWY-5941: glycogen degradation II</th>\n",
       "      <th>PWY-1042: glycolysis IV</th>\n",
       "      <th>VALSYN-PWY: L-valine biosynthesis</th>\n",
       "      <th>GLYCOGENSYNTH-PWY: glycogen biosynthesis I (from ADP-D-Glucose)</th>\n",
       "      <th>PWY-7221: guanosine ribonucleotides de novo biosynthesis</th>\n",
       "      <th>COMPLETE-ARO-PWY: superpathway of aromatic amino acid biosynthesis</th>\n",
       "      <th>ILEUSYN-PWY: L-isoleucine biosynthesis I (from threonine)</th>\n",
       "      <th>...</th>\n",
       "      <th>DHGLUCONATE-PYR-CAT-PWY: glucose degradation (oxidative)</th>\n",
       "      <th>PWY-5654: 2-amino-3-carboxymuconate semialdehyde degradation to 2-hydroxypentadienoate</th>\n",
       "      <th>P101-PWY: ectoine biosynthesis</th>\n",
       "      <th>PWY-1501: mandelate degradation I</th>\n",
       "      <th>PWY-5647: 2-nitrobenzoate degradation I</th>\n",
       "      <th>DENITRIFICATION-PWY: nitrate reduction I (denitrification)</th>\n",
       "      <th>PWY-5156: superpathway of fatty acid biosynthesis II (plant)</th>\n",
       "      <th>PWY-7413: dTDP-6-deoxy-&amp;alpha;-D-allose biosynthesis</th>\n",
       "      <th>PWY-6891: thiazole component of thiamine diphosphate biosynthesis II</th>\n",
       "      <th>PWY-6565: superpathway of polyamine biosynthesis III</th>\n",
       "    </tr>\n",
       "    <tr>\n",
       "      <th>NCBI_accession</th>\n",
       "      <th></th>\n",
       "      <th></th>\n",
       "      <th></th>\n",
       "      <th></th>\n",
       "      <th></th>\n",
       "      <th></th>\n",
       "      <th></th>\n",
       "      <th></th>\n",
       "      <th></th>\n",
       "      <th></th>\n",
       "      <th></th>\n",
       "      <th></th>\n",
       "      <th></th>\n",
       "      <th></th>\n",
       "      <th></th>\n",
       "      <th></th>\n",
       "      <th></th>\n",
       "      <th></th>\n",
       "      <th></th>\n",
       "      <th></th>\n",
       "      <th></th>\n",
       "    </tr>\n",
       "  </thead>\n",
       "  <tbody>\n",
       "    <tr>\n",
       "      <th>SRR16681848</th>\n",
       "      <td>2.587722e+06</td>\n",
       "      <td>1.173131e+07</td>\n",
       "      <td>12766.928557</td>\n",
       "      <td>10936.254655</td>\n",
       "      <td>10026.579335</td>\n",
       "      <td>9680.225801</td>\n",
       "      <td>9616.447070</td>\n",
       "      <td>9223.399450</td>\n",
       "      <td>9078.021756</td>\n",
       "      <td>9062.655849</td>\n",
       "      <td>...</td>\n",
       "      <td>0.0</td>\n",
       "      <td>0.0</td>\n",
       "      <td>0.0</td>\n",
       "      <td>0.0</td>\n",
       "      <td>0.0</td>\n",
       "      <td>0.0</td>\n",
       "      <td>0.0</td>\n",
       "      <td>0.0</td>\n",
       "      <td>0.0</td>\n",
       "      <td>0.0</td>\n",
       "    </tr>\n",
       "    <tr>\n",
       "      <th>SRR16681822</th>\n",
       "      <td>3.727463e+06</td>\n",
       "      <td>7.355934e+06</td>\n",
       "      <td>8115.376671</td>\n",
       "      <td>5811.856881</td>\n",
       "      <td>6134.774587</td>\n",
       "      <td>5730.477801</td>\n",
       "      <td>6532.693085</td>\n",
       "      <td>7195.063574</td>\n",
       "      <td>6169.392543</td>\n",
       "      <td>5502.639509</td>\n",
       "      <td>...</td>\n",
       "      <td>0.0</td>\n",
       "      <td>0.0</td>\n",
       "      <td>0.0</td>\n",
       "      <td>0.0</td>\n",
       "      <td>0.0</td>\n",
       "      <td>0.0</td>\n",
       "      <td>0.0</td>\n",
       "      <td>0.0</td>\n",
       "      <td>0.0</td>\n",
       "      <td>0.0</td>\n",
       "    </tr>\n",
       "    <tr>\n",
       "      <th>SRR16681836</th>\n",
       "      <td>2.581130e+06</td>\n",
       "      <td>9.327095e+06</td>\n",
       "      <td>8421.730944</td>\n",
       "      <td>7054.466525</td>\n",
       "      <td>8066.582866</td>\n",
       "      <td>7511.213169</td>\n",
       "      <td>7123.501761</td>\n",
       "      <td>7747.938106</td>\n",
       "      <td>7338.787233</td>\n",
       "      <td>5828.233766</td>\n",
       "      <td>...</td>\n",
       "      <td>0.0</td>\n",
       "      <td>0.0</td>\n",
       "      <td>0.0</td>\n",
       "      <td>0.0</td>\n",
       "      <td>0.0</td>\n",
       "      <td>0.0</td>\n",
       "      <td>0.0</td>\n",
       "      <td>0.0</td>\n",
       "      <td>0.0</td>\n",
       "      <td>0.0</td>\n",
       "    </tr>\n",
       "    <tr>\n",
       "      <th>SRR16681840</th>\n",
       "      <td>2.387285e+06</td>\n",
       "      <td>9.370982e+06</td>\n",
       "      <td>7029.748693</td>\n",
       "      <td>6963.760852</td>\n",
       "      <td>8172.805923</td>\n",
       "      <td>7889.685179</td>\n",
       "      <td>6941.965408</td>\n",
       "      <td>7294.219262</td>\n",
       "      <td>5757.716820</td>\n",
       "      <td>7446.618439</td>\n",
       "      <td>...</td>\n",
       "      <td>0.0</td>\n",
       "      <td>0.0</td>\n",
       "      <td>0.0</td>\n",
       "      <td>0.0</td>\n",
       "      <td>0.0</td>\n",
       "      <td>0.0</td>\n",
       "      <td>0.0</td>\n",
       "      <td>0.0</td>\n",
       "      <td>0.0</td>\n",
       "      <td>0.0</td>\n",
       "    </tr>\n",
       "    <tr>\n",
       "      <th>SRR16681828</th>\n",
       "      <td>2.974469e+06</td>\n",
       "      <td>9.581788e+06</td>\n",
       "      <td>11117.918162</td>\n",
       "      <td>9121.543114</td>\n",
       "      <td>9499.579927</td>\n",
       "      <td>8387.936220</td>\n",
       "      <td>10065.937007</td>\n",
       "      <td>7293.850919</td>\n",
       "      <td>7847.385863</td>\n",
       "      <td>7213.360376</td>\n",
       "      <td>...</td>\n",
       "      <td>0.0</td>\n",
       "      <td>0.0</td>\n",
       "      <td>0.0</td>\n",
       "      <td>0.0</td>\n",
       "      <td>0.0</td>\n",
       "      <td>0.0</td>\n",
       "      <td>0.0</td>\n",
       "      <td>0.0</td>\n",
       "      <td>0.0</td>\n",
       "      <td>0.0</td>\n",
       "    </tr>\n",
       "  </tbody>\n",
       "</table>\n",
       "<p>5 rows × 492 columns</p>\n",
       "</div>"
      ],
      "text/plain": [
       "                    UNMAPPED  UNINTEGRATED  PWY-7238: sucrose biosynthesis II  \\\n",
       "NCBI_accession                                                                  \n",
       "SRR16681848     2.587722e+06  1.173131e+07                       12766.928557   \n",
       "SRR16681822     3.727463e+06  7.355934e+06                        8115.376671   \n",
       "SRR16681836     2.581130e+06  9.327095e+06                        8421.730944   \n",
       "SRR16681840     2.387285e+06  9.370982e+06                        7029.748693   \n",
       "SRR16681828     2.974469e+06  9.581788e+06                       11117.918162   \n",
       "\n",
       "                PWY-5941: glycogen degradation II  PWY-1042: glycolysis IV  \\\n",
       "NCBI_accession                                                               \n",
       "SRR16681848                          10936.254655             10026.579335   \n",
       "SRR16681822                           5811.856881              6134.774587   \n",
       "SRR16681836                           7054.466525              8066.582866   \n",
       "SRR16681840                           6963.760852              8172.805923   \n",
       "SRR16681828                           9121.543114              9499.579927   \n",
       "\n",
       "                VALSYN-PWY: L-valine biosynthesis  \\\n",
       "NCBI_accession                                      \n",
       "SRR16681848                           9680.225801   \n",
       "SRR16681822                           5730.477801   \n",
       "SRR16681836                           7511.213169   \n",
       "SRR16681840                           7889.685179   \n",
       "SRR16681828                           8387.936220   \n",
       "\n",
       "                GLYCOGENSYNTH-PWY: glycogen biosynthesis I (from ADP-D-Glucose)  \\\n",
       "NCBI_accession                                                                    \n",
       "SRR16681848                                           9616.447070                 \n",
       "SRR16681822                                           6532.693085                 \n",
       "SRR16681836                                           7123.501761                 \n",
       "SRR16681840                                           6941.965408                 \n",
       "SRR16681828                                          10065.937007                 \n",
       "\n",
       "                PWY-7221: guanosine ribonucleotides de novo biosynthesis  \\\n",
       "NCBI_accession                                                             \n",
       "SRR16681848                                           9223.399450          \n",
       "SRR16681822                                           7195.063574          \n",
       "SRR16681836                                           7747.938106          \n",
       "SRR16681840                                           7294.219262          \n",
       "SRR16681828                                           7293.850919          \n",
       "\n",
       "                COMPLETE-ARO-PWY: superpathway of aromatic amino acid biosynthesis  \\\n",
       "NCBI_accession                                                                       \n",
       "SRR16681848                                           9078.021756                    \n",
       "SRR16681822                                           6169.392543                    \n",
       "SRR16681836                                           7338.787233                    \n",
       "SRR16681840                                           5757.716820                    \n",
       "SRR16681828                                           7847.385863                    \n",
       "\n",
       "                ILEUSYN-PWY: L-isoleucine biosynthesis I (from threonine)  \\\n",
       "NCBI_accession                                                              \n",
       "SRR16681848                                           9062.655849           \n",
       "SRR16681822                                           5502.639509           \n",
       "SRR16681836                                           5828.233766           \n",
       "SRR16681840                                           7446.618439           \n",
       "SRR16681828                                           7213.360376           \n",
       "\n",
       "                ...  DHGLUCONATE-PYR-CAT-PWY: glucose degradation (oxidative)  \\\n",
       "NCBI_accession  ...                                                             \n",
       "SRR16681848     ...                                                0.0          \n",
       "SRR16681822     ...                                                0.0          \n",
       "SRR16681836     ...                                                0.0          \n",
       "SRR16681840     ...                                                0.0          \n",
       "SRR16681828     ...                                                0.0          \n",
       "\n",
       "                PWY-5654: 2-amino-3-carboxymuconate semialdehyde degradation to 2-hydroxypentadienoate  \\\n",
       "NCBI_accession                                                                                           \n",
       "SRR16681848                                                   0.0                                        \n",
       "SRR16681822                                                   0.0                                        \n",
       "SRR16681836                                                   0.0                                        \n",
       "SRR16681840                                                   0.0                                        \n",
       "SRR16681828                                                   0.0                                        \n",
       "\n",
       "                P101-PWY: ectoine biosynthesis  \\\n",
       "NCBI_accession                                   \n",
       "SRR16681848                                0.0   \n",
       "SRR16681822                                0.0   \n",
       "SRR16681836                                0.0   \n",
       "SRR16681840                                0.0   \n",
       "SRR16681828                                0.0   \n",
       "\n",
       "                PWY-1501: mandelate degradation I  \\\n",
       "NCBI_accession                                      \n",
       "SRR16681848                                   0.0   \n",
       "SRR16681822                                   0.0   \n",
       "SRR16681836                                   0.0   \n",
       "SRR16681840                                   0.0   \n",
       "SRR16681828                                   0.0   \n",
       "\n",
       "                PWY-5647: 2-nitrobenzoate degradation I  \\\n",
       "NCBI_accession                                            \n",
       "SRR16681848                                         0.0   \n",
       "SRR16681822                                         0.0   \n",
       "SRR16681836                                         0.0   \n",
       "SRR16681840                                         0.0   \n",
       "SRR16681828                                         0.0   \n",
       "\n",
       "                DENITRIFICATION-PWY: nitrate reduction I (denitrification)  \\\n",
       "NCBI_accession                                                               \n",
       "SRR16681848                                                   0.0            \n",
       "SRR16681822                                                   0.0            \n",
       "SRR16681836                                                   0.0            \n",
       "SRR16681840                                                   0.0            \n",
       "SRR16681828                                                   0.0            \n",
       "\n",
       "                PWY-5156: superpathway of fatty acid biosynthesis II (plant)  \\\n",
       "NCBI_accession                                                                 \n",
       "SRR16681848                                                   0.0              \n",
       "SRR16681822                                                   0.0              \n",
       "SRR16681836                                                   0.0              \n",
       "SRR16681840                                                   0.0              \n",
       "SRR16681828                                                   0.0              \n",
       "\n",
       "                PWY-7413: dTDP-6-deoxy-&alpha;-D-allose biosynthesis  \\\n",
       "NCBI_accession                                                         \n",
       "SRR16681848                                                   0.0      \n",
       "SRR16681822                                                   0.0      \n",
       "SRR16681836                                                   0.0      \n",
       "SRR16681840                                                   0.0      \n",
       "SRR16681828                                                   0.0      \n",
       "\n",
       "                PWY-6891: thiazole component of thiamine diphosphate biosynthesis II  \\\n",
       "NCBI_accession                                                                         \n",
       "SRR16681848                                                   0.0                      \n",
       "SRR16681822                                                   0.0                      \n",
       "SRR16681836                                                   0.0                      \n",
       "SRR16681840                                                   0.0                      \n",
       "SRR16681828                                                   0.0                      \n",
       "\n",
       "                PWY-6565: superpathway of polyamine biosynthesis III  \n",
       "NCBI_accession                                                        \n",
       "SRR16681848                                                   0.0     \n",
       "SRR16681822                                                   0.0     \n",
       "SRR16681836                                                   0.0     \n",
       "SRR16681840                                                   0.0     \n",
       "SRR16681828                                                   0.0     \n",
       "\n",
       "[5 rows x 492 columns]"
      ]
     },
     "execution_count": 258,
     "metadata": {},
     "output_type": "execute_result"
    }
   ],
   "source": [
    "paab.head()"
   ]
  },
  {
   "cell_type": "code",
   "execution_count": null,
   "id": "f6a8fcf3",
   "metadata": {},
   "outputs": [],
   "source": []
  },
  {
   "cell_type": "code",
   "execution_count": 259,
   "id": "09bb0d77",
   "metadata": {},
   "outputs": [
    {
     "data": {
      "text/plain": [
       "(74, 15)"
      ]
     },
     "execution_count": 259,
     "metadata": {},
     "output_type": "execute_result"
    }
   ],
   "source": [
    "metadata.shape"
   ]
  },
  {
   "cell_type": "code",
   "execution_count": 260,
   "id": "ad60ed74",
   "metadata": {},
   "outputs": [],
   "source": [
    "metadata = metadata[metadata[\"disease\"].isin([\"depression\", \"Healthy\"])]"
   ]
  },
  {
   "cell_type": "code",
   "execution_count": 261,
   "id": "f08592f4",
   "metadata": {},
   "outputs": [
    {
     "data": {
      "text/plain": [
       "NCBI_accession\n",
       "SRR16681830    1.0\n",
       "SRR16681823    1.0\n",
       "SRR16681858    1.0\n",
       "SRR15966644    1.0\n",
       "SRR15966646    1.0\n",
       "              ... \n",
       "SRR16681828    1.0\n",
       "SRR15966650    1.0\n",
       "SRR15966662    1.0\n",
       "SRR16681824    1.0\n",
       "SRR15966665    1.0\n",
       "Length: 74, dtype: float64"
      ]
     },
     "execution_count": 261,
     "metadata": {},
     "output_type": "execute_result"
    }
   ],
   "source": [
    "# usuwanie wierszy, które mają same zera\n",
    "\n",
    "pa_filtered_clean = paab[~(paab == 0).all(axis=1)]\n",
    "\n",
    "sum_rows_rarefied=pa_filtered_clean.sum(axis=1)\n",
    "\n",
    "pa_filtered_rel = pa_filtered_clean.div(sum_rows_rarefied, axis=0)  #dividing each value in the row by the sum of the row\n",
    "\n",
    "pa_filtered_rel.sum(axis=1).sort_values()\n",
    " "
   ]
  },
  {
   "cell_type": "markdown",
   "id": "9cee4511-12c4-4c53-9a14-2732a41b11cd",
   "metadata": {},
   "source": [
    "### Filter data"
   ]
  },
  {
   "cell_type": "markdown",
   "id": "ae48674c",
   "metadata": {},
   "source": [
    "Jaki chce treshold = 0.1??? Warto przegadać (((:"
   ]
  },
  {
   "cell_type": "code",
   "execution_count": 262,
   "id": "7561cfb6",
   "metadata": {},
   "outputs": [],
   "source": [
    "# Filtrowanie paab do próbek obecnych w metadata\n",
    "# paab = paab.loc[paab.index.intersection(metadata.index)]\n",
    "\n",
    "# # Wynik\n",
    "# print(f\"Liczba próbek paab po filtrowaniu: {paab.shape[0]}\")\n"
   ]
  },
  {
   "cell_type": "code",
   "execution_count": 263,
   "id": "82c07c50",
   "metadata": {},
   "outputs": [],
   "source": [
    "pa_filtered_rel = pa_filtered_rel[pa_filtered_rel.index.isin(metadata.index)]"
   ]
  },
  {
   "cell_type": "code",
   "execution_count": 264,
   "id": "59c4e463",
   "metadata": {},
   "outputs": [
    {
     "data": {
      "text/plain": [
       "(58, 492)"
      ]
     },
     "execution_count": 264,
     "metadata": {},
     "output_type": "execute_result"
    }
   ],
   "source": [
    "pa_filtered_rel.shape"
   ]
  },
  {
   "cell_type": "code",
   "execution_count": 265,
   "id": "1750aec3-11ce-4721-a385-223769f79fb2",
   "metadata": {},
   "outputs": [
    {
     "data": {
      "text/plain": [
       "(58, 486)"
      ]
     },
     "execution_count": 265,
     "metadata": {},
     "output_type": "execute_result"
    }
   ],
   "source": [
    "def filter_prevalence(df, treshold = 0.001):\n",
    "    '''features as columns'''\n",
    "    df_binary = df.copy()\n",
    "    df_binary[df_binary>0]=1\n",
    "    df_binary_sum = df_binary.sum(axis=0)\n",
    "    \n",
    "    keep_features = df_binary_sum[df_binary_sum > df.shape[0]*treshold].index\n",
    "    filtered_df = df[keep_features]\n",
    "    \n",
    "    return filtered_df\n",
    "\n",
    "pa_filtered_rel = filter_prevalence(pa_filtered_rel)\n",
    "\n",
    "pa_filtered_rel.shape"
   ]
  },
  {
   "cell_type": "code",
   "execution_count": 266,
   "id": "9072dc08",
   "metadata": {},
   "outputs": [
    {
     "name": "stdout",
     "output_type": "stream",
     "text": [
      "All values are numeric.\n"
     ]
    }
   ],
   "source": [
    "# Try converting all values to numeric; non-numeric become NaN\n",
    "numeric_df = pa_filtered_rel.apply(pd.to_numeric, errors='coerce')\n",
    "\n",
    "# Check for NaN values (i.e. non-numeric)\n",
    "non_numeric_mask = numeric_df.isna() & pa_filtered_rel.notna()\n",
    "\n",
    "if non_numeric_mask.any().any():\n",
    "    print(\"Non-numeric values found at:\")\n",
    "    print(pa_filtered_rel[non_numeric_mask])\n",
    "else:\n",
    "    print(\"All values are numeric.\")"
   ]
  },
  {
   "cell_type": "code",
   "execution_count": 300,
   "id": "b6607138",
   "metadata": {},
   "outputs": [],
   "source": [
    "pa_filtered_rel.to_csv('russian_pa_filtered.csv', index=False)\n"
   ]
  },
  {
   "cell_type": "code",
   "execution_count": 267,
   "id": "f8dca12b",
   "metadata": {},
   "outputs": [],
   "source": [
    "metadata_filtered = metadata[metadata.index.isin(pa_filtered_rel.index)]"
   ]
  },
  {
   "cell_type": "code",
   "execution_count": 268,
   "id": "ef5480ba",
   "metadata": {},
   "outputs": [
    {
     "data": {
      "text/plain": [
       "((58, 15), (58, 486))"
      ]
     },
     "execution_count": 268,
     "metadata": {},
     "output_type": "execute_result"
    }
   ],
   "source": [
    "metadata_filtered.shape, pa_filtered_rel.shape"
   ]
  },
  {
   "cell_type": "markdown",
   "id": "e8a40daf-8060-4f8c-bb20-d23ea387541d",
   "metadata": {},
   "source": [
    "## Alpha diversity\n",
    "\n",
    "#### Alpha diversity measures the within-sample microbial diversity, reflecting species richness and evenness in a single sample. Common metrics include:\n",
    "\n",
    "1. Shannon Index – accounts for both richness and evenness.\n",
    "2. Simpson Index – considers dominance by a few species.\n",
    "3. Chao1 – estimates species richness, emphasizing rare species.\n",
    "4. Number of features - calculates number of unique features in each sample."
   ]
  },
  {
   "cell_type": "code",
   "execution_count": 269,
   "id": "ac86181d",
   "metadata": {},
   "outputs": [
    {
     "data": {
      "text/plain": [
       "True"
      ]
     },
     "execution_count": 269,
     "metadata": {},
     "output_type": "execute_result"
    }
   ],
   "source": [
    "metadata_filtered.index.is_unique\n",
    "# metadata.index.is_unique"
   ]
  },
  {
   "cell_type": "code",
   "execution_count": 270,
   "id": "b9863f1c",
   "metadata": {},
   "outputs": [
    {
     "data": {
      "text/plain": [
       "(58, 15)"
      ]
     },
     "execution_count": 270,
     "metadata": {},
     "output_type": "execute_result"
    }
   ],
   "source": [
    "metadata_filtered.shape"
   ]
  },
  {
   "cell_type": "code",
   "execution_count": 271,
   "id": "6439ed7b",
   "metadata": {},
   "outputs": [
    {
     "name": "stdout",
     "output_type": "stream",
     "text": [
      "Empty DataFrame\n",
      "Columns: [study_name, sample_id, age, gender, disease, CES-D, GAD-7, HAMD-17, BMI, Size, Gbp., Number of reads, Number of contigs, Assembly length, Mbp., N50, b.p., Maximum contig length, kbp.]\n",
      "Index: []\n"
     ]
    }
   ],
   "source": [
    "# ndeksy które sie powtarzają\n",
    "dup_index = metadata_filtered.index[metadata_filtered.index.duplicated()]\n",
    "\n",
    "# wiersze z powtarzającymi się indeksami\n",
    "duplicates = metadata_filtered.loc[dup_index]\n",
    "\n",
    "print(duplicates)\n"
   ]
  },
  {
   "cell_type": "code",
   "execution_count": 272,
   "id": "3c01ad5f",
   "metadata": {},
   "outputs": [],
   "source": [
    "number_of_features_df_path   = pa_filtered_rel.astype(bool).astype(int).sum(axis=1)\n",
    "shannon_df_path              = pa_filtered_rel.apply(lambda row: shannon(row), axis=1)\n",
    "\n",
    "alpha_diversity_path         = pd.concat([number_of_features_df_path, shannon_df_path],axis=1)\n",
    "alpha_diversity_path.columns = ['n_paths', 'shannon']\n",
    "\n",
    "alpha_diversity_path         = pd.concat([metadata_filtered, alpha_diversity_path],axis=1)\n",
    "# alpha_diversity_path         = pd.concat([metadata, alpha_diversity_path],axis=1).dropna()\n",
    "# alpha_diversity_path         = pd.concat([metadata, alpha_diversity_path],axis=1)"
   ]
  },
  {
   "cell_type": "code",
   "execution_count": 273,
   "id": "c9198eab",
   "metadata": {},
   "outputs": [],
   "source": [
    "# number_of_features_df_path.head()"
   ]
  },
  {
   "cell_type": "code",
   "execution_count": 274,
   "id": "9fc86e19",
   "metadata": {},
   "outputs": [],
   "source": [
    "# shannon_df_path.head()"
   ]
  },
  {
   "cell_type": "code",
   "execution_count": 275,
   "id": "36ef8cbe",
   "metadata": {},
   "outputs": [
    {
     "data": {
      "text/plain": [
       "(58, 17)"
      ]
     },
     "execution_count": 275,
     "metadata": {},
     "output_type": "execute_result"
    }
   ],
   "source": [
    "alpha_diversity_path.shape"
   ]
  },
  {
   "cell_type": "code",
   "execution_count": 276,
   "id": "a5aab653-f35b-47e8-97dd-215044cc4e8b",
   "metadata": {},
   "outputs": [
    {
     "data": {
      "image/png": "[encoded data removed]",
      "text/plain": [
       "<Figure size 800x400 with 2 Axes>"
      ]
     },
     "metadata": {},
     "output_type": "display_data"
    }
   ],
   "source": [
    "fig, axes = plt.subplots(1, 2, figsize = (8, 4))\n",
    "\n",
    "sns.boxplot(data=alpha_diversity_path, \n",
    "            x = 'disease', \n",
    "            y = 'n_paths', \n",
    "           ax=axes[0])\n",
    "\n",
    "\n",
    "sns.boxplot(data=alpha_diversity_path, \n",
    "            x = 'disease', \n",
    "            y = 'shannon', \n",
    "           ax=axes[1])\n",
    "\n",
    "axes[0].set_title('Number of Paths')\n",
    "axes[1].set_title('Shannon diversity index')\n",
    "\n",
    "plt.suptitle('Alpha diversity boxplots \\n', fontsize=14)\n",
    "plt.tight_layout()"
   ]
  },
  {
   "cell_type": "code",
   "execution_count": 277,
   "id": "a9cf43a4-529d-4605-ba38-90b2dc103751",
   "metadata": {},
   "outputs": [],
   "source": [
    "control_samples_path = alpha_diversity_path[alpha_diversity_path['disease'] == 'Healthy']\n",
    "ibd_samples_path = alpha_diversity_path[alpha_diversity_path['disease'] == 'depression']"
   ]
  },
  {
   "cell_type": "code",
   "execution_count": 278,
   "id": "5b03f01c-2524-4d41-9352-37975fa425a5",
   "metadata": {},
   "outputs": [
    {
     "name": "stdout",
     "output_type": "stream",
     "text": [
      "P-value for Kruskal-Wallis test for number of features is = 0.02\n"
     ]
    }
   ],
   "source": [
    "test_stat_path, pvalue_path = stats.kruskal(control_samples_path.n_paths, ibd_samples_path.n_paths)\n",
    "print(f\"P-value for Kruskal-Wallis test for number of features is = {pvalue_path:.2f}\")"
   ]
  },
  {
   "cell_type": "code",
   "execution_count": 279,
   "id": "aaf7ddba",
   "metadata": {},
   "outputs": [
    {
     "name": "stdout",
     "output_type": "stream",
     "text": [
      "P-value for Kruskal-Wallis test for Shannon diversity is = 0.31046\n"
     ]
    }
   ],
   "source": [
    "shannon_control = control_samples_path[\"shannon\"].dropna()\n",
    "shannon_ibd = ibd_samples_path[\"shannon\"].dropna()\n",
    "\n",
    "test_stat, pvalue = stats.kruskal(shannon_control, shannon_ibd)\n",
    "\n",
    "print(f\"P-value for Kruskal-Wallis test for Shannon diversity is = {pvalue:.5f}\")\n"
   ]
  },
  {
   "cell_type": "markdown",
   "id": "addaa16c-03e1-44e7-919c-2d492db8d0c5",
   "metadata": {},
   "source": [
    "## Beta diversity\n",
    "\n",
    "### Beta diversity quantifies the between-sample microbial composition differences, showing how communities vary across samples. It is based on distance matrices and common metrics include:\n",
    "\n",
    "1. Bray-Curtis Dissimilarity – considers species abundance.\n",
    "2. Jaccard Index – based on presence/absence of species.\n",
    "3. UniFrac – accounts for phylogenetic differences between communities (weighted or unweighted)."
   ]
  },
  {
   "cell_type": "code",
   "execution_count": 280,
   "id": "cb43b897",
   "metadata": {},
   "outputs": [
    {
     "data": {
      "text/plain": [
       "NCBI_accession\n",
       "SRR16681849    1.0\n",
       "SRR16681863    1.0\n",
       "SRR16681828    1.0\n",
       "SRR16681839    1.0\n",
       "SRR15966646    1.0\n",
       "SRR16681853    1.0\n",
       "SRR16681858    1.0\n",
       "SRR16681833    1.0\n",
       "SRR16681820    1.0\n",
       "SRR16681843    1.0\n",
       "SRR15966649    1.0\n",
       "SRR15966654    1.0\n",
       "SRR16681834    1.0\n",
       "SRR16681830    1.0\n",
       "SRR16681838    1.0\n",
       "SRR15966660    1.0\n",
       "SRR15966666    1.0\n",
       "SRR16681841    1.0\n",
       "SRR16681845    1.0\n",
       "SRR16681832    1.0\n",
       "SRR15966650    1.0\n",
       "SRR15966659    1.0\n",
       "SRR16681851    1.0\n",
       "SRR15966652    1.0\n",
       "SRR16681831    1.0\n",
       "SRR16681860    1.0\n",
       "SRR16681837    1.0\n",
       "SRR16681840    1.0\n",
       "SRR16681842    1.0\n",
       "SRR16681826    1.0\n",
       "SRR15966647    1.0\n",
       "SRR16681848    1.0\n",
       "SRR16681844    1.0\n",
       "SRR15966667    1.0\n",
       "SRR16681857    1.0\n",
       "SRR15966662    1.0\n",
       "SRR15966661    1.0\n",
       "SRR15966656    1.0\n",
       "SRR15966651    1.0\n",
       "SRR15966653    1.0\n",
       "SRR16681835    1.0\n",
       "SRR15966648    1.0\n",
       "SRR16681825    1.0\n",
       "SRR16681846    1.0\n",
       "SRR15966641    1.0\n",
       "SRR15966655    1.0\n",
       "SRR16681850    1.0\n",
       "SRR16681847    1.0\n",
       "SRR15966645    1.0\n",
       "SRR16681855    1.0\n",
       "SRR15966658    1.0\n",
       "SRR16681854    1.0\n",
       "SRR15966663    1.0\n",
       "SRR16681864    1.0\n",
       "SRR16681827    1.0\n",
       "SRR16681836    1.0\n",
       "SRR16681829    1.0\n",
       "SRR16681824    1.0\n",
       "dtype: float64"
      ]
     },
     "execution_count": 280,
     "metadata": {},
     "output_type": "execute_result"
    }
   ],
   "source": [
    "# usuwanie wierszy, które mają same zera\n",
    "\n",
    "pa_filtered_clean = pa_filtered_rel[~(pa_filtered_rel == 0).all(axis=1)]\n",
    "\n",
    "sum_rows_rarefied=pa_filtered_clean.sum(axis=1)\n",
    "\n",
    "pa_filtered_rel = pa_filtered_clean.div(sum_rows_rarefied, axis=0)  #dividing each value in the row by the sum of the row\n",
    "\n",
    "pa_filtered_rel.sum(axis=1).sort_values()"
   ]
  },
  {
   "cell_type": "code",
   "execution_count": 281,
   "id": "6abc3716-9eef-4a07-9bbb-18c0e3d0ada9",
   "metadata": {},
   "outputs": [
    {
     "name": "stderr",
     "output_type": "stream",
     "text": [
      "/home/PaulinaSk/.local/lib/python3.10/site-packages/skbio/stats/ordination/_principal_coordinate_analysis.py:214: RuntimeWarning: The result contains negative eigenvalues that are large in magnitude, which may suggest result inaccuracy. See Notes for details. The negative-most eigenvalue is -0.02150206038298434 whereas the largest positive one is 0.696055844889247.\n",
      "  warn(\n"
     ]
    }
   ],
   "source": [
    "dM_jaccard_path      = squareform(pdist(pa_filtered_rel.astype(bool).astype(int), 'jaccard'))\n",
    "pcoa_jaccard_path    = pcoa(dM_jaccard_path).samples"
   ]
  },
  {
   "cell_type": "code",
   "execution_count": 282,
   "id": "e36810f1",
   "metadata": {},
   "outputs": [],
   "source": [
    "# dM_jaccard_path"
   ]
  },
  {
   "cell_type": "code",
   "execution_count": 283,
   "id": "4fc6de3b",
   "metadata": {},
   "outputs": [
    {
     "name": "stderr",
     "output_type": "stream",
     "text": [
      "/home/PaulinaSk/.local/lib/python3.10/site-packages/skbio/stats/ordination/_principal_coordinate_analysis.py:214: RuntimeWarning: The result contains negative eigenvalues that are large in magnitude, which may suggest result inaccuracy. See Notes for details. The negative-most eigenvalue is -0.0007993125032392314 whereas the largest positive one is 0.055615493681062424.\n",
      "  warn(\n"
     ]
    }
   ],
   "source": [
    "dM_braycurtis_path   = squareform(pdist(pa_filtered_rel, 'braycurtis'))\n",
    "pcoa_braycurtis_path = pcoa(dM_braycurtis_path).samples"
   ]
  },
  {
   "cell_type": "code",
   "execution_count": 284,
   "id": "c12c89b8",
   "metadata": {},
   "outputs": [],
   "source": [
    "# dM_braycurtis_path"
   ]
  },
  {
   "cell_type": "code",
   "execution_count": 285,
   "id": "33f797fd",
   "metadata": {},
   "outputs": [],
   "source": [
    "dM_euclidean_path    = squareform(pdist(np.log(pa_filtered_rel+1e-3), 'euclidean'))\n",
    "pcoa_euclidean_path  = pcoa(dM_euclidean_path).samples"
   ]
  },
  {
   "cell_type": "code",
   "execution_count": 286,
   "id": "a79fc9c1",
   "metadata": {},
   "outputs": [],
   "source": [
    "# dM_euclidean_path"
   ]
  },
  {
   "cell_type": "markdown",
   "id": "48d93fe6-460a-4a51-9231-068fb0ef8ae2",
   "metadata": {},
   "source": [
    "## PCoA on beta diversity distance matrix"
   ]
  },
  {
   "cell_type": "code",
   "execution_count": 287,
   "id": "623446e6-038c-47c7-a44e-d196a3fba98e",
   "metadata": {},
   "outputs": [],
   "source": [
    "disease_dict_path = dict(zip(metadata.index, metadata.disease))\n",
    "\n",
    "pcoa_jaccard_path['disease'] = pa_filtered_rel.index.map(disease_dict_path)\n",
    "pcoa_braycurtis_path['disease'] = pa_filtered_rel.index.map(disease_dict_path)\n",
    "pcoa_euclidean_path['disease'] = pa_filtered_rel.index.map(disease_dict_path)"
   ]
  },
  {
   "cell_type": "code",
   "execution_count": 288,
   "id": "820144db-d210-4f41-b52a-4ac9c5bfda38",
   "metadata": {},
   "outputs": [
    {
     "data": {
      "image/png": "[encoded data removed]",
      "text/plain": [
       "<Figure size 1500x500 with 3 Axes>"
      ]
     },
     "metadata": {},
     "output_type": "display_data"
    }
   ],
   "source": [
    "fig, axes = plt.subplots(1, 3, figsize=(15, 5))\n",
    "\n",
    "# filtrowanie tylko healthy i depression\n",
    "filt = lambda df: df[df[\"disease\"].isin([\"Healthy\", \"depression\"])]\n",
    "\n",
    "sns.scatterplot(\n",
    "    data=filt(pcoa_jaccard_path),\n",
    "    x=\"PC1\", y=\"PC2\",\n",
    "    edgecolor=\"k\",\n",
    "    hue=\"disease\",\n",
    "    legend=False,\n",
    "    ax=axes[0]\n",
    ")\n",
    "\n",
    "sns.scatterplot(\n",
    "    data=filt(pcoa_braycurtis_path),\n",
    "    x=\"PC1\", y=\"PC2\",\n",
    "    edgecolor=\"k\",\n",
    "    hue=\"disease\",\n",
    "    legend=False,\n",
    "    ax=axes[1]\n",
    ")\n",
    "\n",
    "sns.scatterplot(\n",
    "    data=filt(pcoa_euclidean_path),\n",
    "    x=\"PC1\", y=\"PC2\",\n",
    "    edgecolor=\"k\",\n",
    "    hue=\"disease\",\n",
    "    ax=axes[2]\n",
    ")\n",
    "\n",
    "axes[0].set_title(\"Jaccard distance\")\n",
    "axes[1].set_title(\"Bray Curtis distance\")\n",
    "axes[2].set_title(\"Log Euclidean distance\")\n",
    "\n",
    "plt.suptitle(\"PCoA scatterplot \\n\", fontsize=14)\n",
    "plt.tight_layout()\n"
   ]
  },
  {
   "cell_type": "code",
   "execution_count": 289,
   "id": "d8a40608",
   "metadata": {},
   "outputs": [],
   "source": [
    "import numpy as np\n",
    "import pandas as pd\n",
    "from scipy.spatial.distance import pdist, squareform\n",
    "from skbio.stats.distance import DistanceMatrix\n",
    "from sklearn.utils import resample\n",
    "\n",
    "def permdisp(data, metadata, group_col, metric=\"braycurtis\", n_permutations=999, random_state=42):\n",
    "\n",
    "    dist = pdist(data, metric=metric)\n",
    "    dist_matrix = DistanceMatrix(squareform(dist), ids=data.index)\n",
    "    \n",
    "    groups = metadata.loc[data.index, group_col]\n",
    "    centroids = {}\n",
    "    dists_to_centroid = []\n",
    "    labels = []\n",
    "    \n",
    "    for g in groups.unique():\n",
    "        idx = np.where(groups == g)[0]\n",
    "        sub_dm = dist_matrix.filter(data.index[idx], strict=False)\n",
    "        centroid = sub_dm.data.mean(axis=0) \n",
    "        # odległości próbki -> centroid\n",
    "        dist_to_centroid = sub_dm.data.mean(axis=1)\n",
    "        dists_to_centroid.extend(dist_to_centroid)\n",
    "        labels.extend([g] * len(dist_to_centroid))\n",
    "    \n",
    "    dists_to_centroid = np.array(dists_to_centroid)\n",
    "    labels = np.array(labels)\n",
    "    \n",
    "    # ANOVA-like F\n",
    "    grand_mean = dists_to_centroid.mean()\n",
    "    ss_between = sum([len(dists_to_centroid[labels == g]) * \n",
    "                      (dists_to_centroid[labels == g].mean() - grand_mean) ** 2 \n",
    "                      for g in np.unique(labels)])\n",
    "    ss_within = sum([((dists_to_centroid[labels == g] - \n",
    "                       dists_to_centroid[labels == g].mean()) ** 2).sum() \n",
    "                     for g in np.unique(labels)])\n",
    "    \n",
    "    df_between = len(np.unique(labels)) - 1\n",
    "    df_within = len(labels) - len(np.unique(labels))\n",
    "    ms_between = ss_between / df_between\n",
    "    ms_within = ss_within / df_within\n",
    "    F_stat = ms_between / ms_within\n",
    "    \n",
    "    # \n",
    "    rng = np.random.default_rng(random_state)\n",
    "    perm_stats = []\n",
    "    for _ in range(n_permutations):\n",
    "        perm_labels = rng.permutation(labels)\n",
    "        ss_between_perm = sum([len(dists_to_centroid[perm_labels == g]) * \n",
    "                               (dists_to_centroid[perm_labels == g].mean() - grand_mean) ** 2 \n",
    "                               for g in np.unique(labels)])\n",
    "        ms_between_perm = ss_between_perm / df_between\n",
    "        F_perm = ms_between_perm / ms_within\n",
    "        perm_stats.append(F_perm)\n",
    "    \n",
    "    p_value = (np.sum(np.array(perm_stats) >= F_stat) + 1) / (n_permutations + 1)\n",
    "    \n",
    "    result = {\n",
    "        \"method\": \"PERMDISP\",\n",
    "        \"metric\": metric,\n",
    "        \"test statistic\": F_stat,\n",
    "        \"p-value\": p_value,\n",
    "        \"n_perm\": n_permutations\n",
    "    }\n",
    "\n",
    "    for k, v in result.items():\n",
    "        print(f\"{k}: {v}\")\n"
   ]
  },
  {
   "cell_type": "code",
   "execution_count": 290,
   "id": "36f4c71e",
   "metadata": {},
   "outputs": [
    {
     "name": "stdout",
     "output_type": "stream",
     "text": [
      "method: PERMDISP\n",
      "metric: braycurtis\n",
      "test statistic: 0.0251519437389623\n",
      "p-value: 0.869\n",
      "n_perm: 999\n",
      " \n",
      "\n",
      "method: PERMDISP\n",
      "metric: jaccard\n",
      "test statistic: 1.6697097996763233e+30\n",
      "p-value: 0.001\n",
      "n_perm: 999\n",
      " \n",
      "\n",
      "method: PERMDISP\n",
      "metric: euclidean\n",
      "test statistic: 0.22579719455581654\n",
      "p-value: 0.646\n",
      "n_perm: 999\n"
     ]
    }
   ],
   "source": [
    "# domyślnie braycurtis\n",
    "res_bray = permdisp(pa_filtered_rel, metadata_filtered, group_col=\"disease\")\n",
    "\n",
    "print(\" \\n\")\n",
    "\n",
    "# jaccard\n",
    "res_jaccard = permdisp(pa_filtered_rel, metadata_filtered, group_col=\"disease\", metric=\"jaccard\")\n",
    "\n",
    "print(\" \\n\")\n",
    "\n",
    "# euclidean\n",
    "res_euc = permdisp(pa_filtered_rel, metadata_filtered, group_col=\"disease\", metric=\"euclidean\")\n"
   ]
  },
  {
   "cell_type": "code",
   "execution_count": 291,
   "id": "3afc86cb",
   "metadata": {},
   "outputs": [
    {
     "name": "stdout",
     "output_type": "stream",
     "text": [
      "PC1 tłumaczy: 30.79% wariancji\n",
      "PC2 tłumaczy: 9.69% wariancji\n"
     ]
    }
   ],
   "source": [
    "from sklearn.decomposition import PCA\n",
    "from sklearn.preprocessing import StandardScaler\n",
    "\n",
    "features_df = pa_filtered_rel.copy()\n",
    "\n",
    "# usuń lub uzupełnij braki\n",
    "features_df = features_df.dropna()  # lub .fillna(features_df.median(numeric_only=True))\n",
    "\n",
    "\n",
    "# standaryzacja\n",
    "scaler = StandardScaler()\n",
    "X_scaled = scaler.fit_transform(features_df)\n",
    "\n",
    "# PCA\n",
    "pca = PCA(n_components=2)\n",
    "pca.fit(X_scaled)\n",
    "\n",
    "explained_var = pca.explained_variance_ratio_ * 100  # w %\n",
    "print(f\"PC1 tłumaczy: {explained_var[0]:.2f}% wariancji\")\n",
    "print(f\"PC2 tłumaczy: {explained_var[1]:.2f}% wariancji\")\n"
   ]
  },
  {
   "cell_type": "markdown",
   "id": "79e5459d-d9ce-4027-ba45-b59d6b836e07",
   "metadata": {},
   "source": [
    "## PERMANOVA\n",
    "\n",
    "Test for significant differences between groups using PERMANOVA.\n",
    "\n",
    "Permutational Multivariate Analysis of Variance (PERMANOVA) is a non-parametric method that tests whether two or more groups of objects (e.g., samples) are significantly different based on a categorical factor. It is conceptually similar to ANOVA except that it operates on a distance matrix, which allows for multivariate analysis. PERMANOVA computes a pseudo-F statistic.\n",
    "\n",
    "Statistical significance is assessed via a permutation test. The assignment of objects to groups (grouping) is randomly permuted a number of times (controlled via permutations). A pseudo-F statistic is computed for each permutation and the p-value is the proportion of permuted pseudo-F statisics that are equal to or greater than the original (unpermuted) pseudo-F statistic.\n",
    "\n"
   ]
  },
  {
   "cell_type": "code",
   "execution_count": 292,
   "id": "60bd8a2a-3270-4102-824e-02cdd5719a3d",
   "metadata": {},
   "outputs": [],
   "source": [
    "grouping_variable_path = pa_filtered_rel.index.map(disease_dict_path)"
   ]
  },
  {
   "cell_type": "code",
   "execution_count": 293,
   "id": "bb8ff436-b881-4896-8891-95d31e07b905",
   "metadata": {},
   "outputs": [
    {
     "name": "stdout",
     "output_type": "stream",
     "text": [
      "Jaccard\n"
     ]
    },
    {
     "data": {
      "text/plain": [
       "method name               PERMANOVA\n",
       "test statistic name        pseudo-F\n",
       "sample size                      58\n",
       "number of groups                  2\n",
       "test statistic             2.966903\n",
       "p-value                       0.029\n",
       "number of permutations          999\n",
       "Name: PERMANOVA results, dtype: object"
      ]
     },
     "execution_count": 293,
     "metadata": {},
     "output_type": "execute_result"
    }
   ],
   "source": [
    "dM_jaccard_df_path = pd.DataFrame(dM_jaccard_path)\n",
    "\n",
    "print(\"Jaccard\")\n",
    "\n",
    "dm_path = DistanceMatrix(dM_jaccard_df_path)\n",
    "permanova(dm_path, grouping_variable_path)"
   ]
  },
  {
   "cell_type": "code",
   "execution_count": 294,
   "id": "36c0525f-b608-4013-9991-cc12708bab7c",
   "metadata": {},
   "outputs": [
    {
     "name": "stdout",
     "output_type": "stream",
     "text": [
      "Bray-Curtis\n"
     ]
    },
    {
     "data": {
      "text/plain": [
       "method name               PERMANOVA\n",
       "test statistic name        pseudo-F\n",
       "sample size                      58\n",
       "number of groups                  2\n",
       "test statistic             2.332851\n",
       "p-value                       0.137\n",
       "number of permutations          999\n",
       "Name: PERMANOVA results, dtype: object"
      ]
     },
     "execution_count": 294,
     "metadata": {},
     "output_type": "execute_result"
    }
   ],
   "source": [
    "dM_braycurtis_df_path = pd.DataFrame(dM_braycurtis_path)\n",
    "\n",
    "print(\"Bray-Curtis\")\n",
    "\n",
    "dm_path = DistanceMatrix(dM_braycurtis_df_path)\n",
    "permanova(dm_path, grouping_variable_path)"
   ]
  },
  {
   "cell_type": "code",
   "execution_count": 295,
   "id": "cfa952a7-0ef9-44e6-a14d-62c45569ec99",
   "metadata": {},
   "outputs": [
    {
     "name": "stdout",
     "output_type": "stream",
     "text": [
      "Euclidean\n"
     ]
    },
    {
     "data": {
      "text/plain": [
       "method name               PERMANOVA\n",
       "test statistic name        pseudo-F\n",
       "sample size                      58\n",
       "number of groups                  2\n",
       "test statistic             3.362037\n",
       "p-value                       0.002\n",
       "number of permutations          999\n",
       "Name: PERMANOVA results, dtype: object"
      ]
     },
     "execution_count": 295,
     "metadata": {},
     "output_type": "execute_result"
    }
   ],
   "source": [
    "dM_euclidean_df_path = pd.DataFrame(dM_euclidean_path)\n",
    "\n",
    "print(\"Euclidean\")\n",
    "\n",
    "dm_path = DistanceMatrix(dM_euclidean_df_path)\n",
    "permanova(dm_path, grouping_variable_path)"
   ]
  },
  {
   "cell_type": "markdown",
   "id": "2e99a16b-f929-4c44-88e2-5ea5a7a3c481",
   "metadata": {},
   "source": [
    "### Differential abundance - U Mann Whitney test\n",
    "\n",
    "The Mann-Whitney U test is a nonparametric test of the null hypothesis that the distribution underlying sample x is the same as the distribution underlying sample y. It is often used as a test of difference in location between distributions.\n",
    "\n"
   ]
  },
  {
   "cell_type": "code",
   "execution_count": 296,
   "id": "e0ba6eda-44d0-45e8-b9a4-b33e2062522c",
   "metadata": {},
   "outputs": [],
   "source": [
    "from scipy.stats import mannwhitneyu"
   ]
  },
  {
   "cell_type": "code",
   "execution_count": 297,
   "id": "e112d874-1308-42ba-82f1-ddaaece664c2",
   "metadata": {},
   "outputs": [],
   "source": [
    "pa_filtered_rel.loc[:, 'disease'] = grouping_variable_path\n",
    "\n",
    "pathway = pa_filtered_rel.columns[:-1]  \n",
    "\n",
    "results = []\n",
    "\n",
    "for path in pathway:\n",
    "    \n",
    "    control_samples_path = pa_filtered_rel.loc[pa_filtered_rel['disease'] == 'depression', path]\n",
    "    ibd_samples_path = pa_filtered_rel.loc[pa_filtered_rel['disease'] == 'Healthy', path]\n",
    "\n",
    "    control_samples_log_path = np.log(control_samples_path+1e-3)\n",
    "    ibd_samples_log_path = np.log(ibd_samples_path+1e-3)\n",
    "    \n",
    "    stat_path, pvalue_path = mannwhitneyu(control_samples_log_path, ibd_samples_log_path)\n",
    "    results.append({'pathway': path, 'pvalue': pvalue_path, 'stat': stat_path})\n",
    "\n",
    "results_df_path = pd.DataFrame(results)\n",
    "\n",
    "# Adjust pvalues\n",
    "results_df_path['pvalue_adj'] = stats.false_discovery_control(results_df_path.pvalue)\n",
    "results_df = np.round(results_df_path, 5)"
   ]
  },
  {
   "cell_type": "code",
   "execution_count": 298,
   "id": "62c078c3-4074-409b-842d-8f562d42b49d",
   "metadata": {},
   "outputs": [
    {
     "data": {
      "text/html": [
       "<div>\n",
       "<style scoped>\n",
       "    .dataframe tbody tr th:only-of-type {\n",
       "        vertical-align: middle;\n",
       "    }\n",
       "\n",
       "    .dataframe tbody tr th {\n",
       "        vertical-align: top;\n",
       "    }\n",
       "\n",
       "    .dataframe thead th {\n",
       "        text-align: right;\n",
       "    }\n",
       "</style>\n",
       "<table border=\"1\" class=\"dataframe\">\n",
       "  <thead>\n",
       "    <tr style=\"text-align: right;\">\n",
       "      <th></th>\n",
       "      <th>pathway</th>\n",
       "      <th>pvalue</th>\n",
       "      <th>stat</th>\n",
       "      <th>pvalue_adj</th>\n",
       "    </tr>\n",
       "  </thead>\n",
       "  <tbody>\n",
       "    <tr>\n",
       "      <th>97</th>\n",
       "      <td>PWY-7237: myo-, chiro- and scyllo-inositol deg...</td>\n",
       "      <td>0.00009</td>\n",
       "      <td>140.0</td>\n",
       "      <td>0.02170</td>\n",
       "    </tr>\n",
       "    <tr>\n",
       "      <th>460</th>\n",
       "      <td>PWY-6328: L-lysine degradation X</td>\n",
       "      <td>0.00008</td>\n",
       "      <td>551.0</td>\n",
       "      <td>0.02170</td>\n",
       "    </tr>\n",
       "    <tr>\n",
       "      <th>398</th>\n",
       "      <td>PWY-6749: CMP-legionaminate biosynthesis I</td>\n",
       "      <td>0.00019</td>\n",
       "      <td>595.5</td>\n",
       "      <td>0.03062</td>\n",
       "    </tr>\n",
       "  </tbody>\n",
       "</table>\n",
       "</div>"
      ],
      "text/plain": [
       "                                               pathway   pvalue   stat  \\\n",
       "97   PWY-7237: myo-, chiro- and scyllo-inositol deg...  0.00009  140.0   \n",
       "460                   PWY-6328: L-lysine degradation X  0.00008  551.0   \n",
       "398         PWY-6749: CMP-legionaminate biosynthesis I  0.00019  595.5   \n",
       "\n",
       "     pvalue_adj  \n",
       "97      0.02170  \n",
       "460     0.02170  \n",
       "398     0.03062  "
      ]
     },
     "execution_count": 298,
     "metadata": {},
     "output_type": "execute_result"
    }
   ],
   "source": [
    "results_df[results_df['pvalue_adj'] < 0.05].sort_values(by = 'pvalue_adj')"
   ]
  },
  {
   "cell_type": "code",
   "execution_count": 299,
   "id": "e0df86e2",
   "metadata": {},
   "outputs": [
    {
     "name": "stdout",
     "output_type": "stream",
     "text": [
      "Ścieżka z najniższą wartością stat: PWY-7237: myo-, chiro- and scyllo-inositol degradation\n",
      "Ścieżka z najwyższą wartością stat: PWY-6749: CMP-legionaminate biosynthesis I\n"
     ]
    }
   ],
   "source": [
    "filtered_results = results_df[results_df['pvalue_adj'] < 0.05]\n",
    "\n",
    "min_pathway = filtered_results.loc[filtered_results['stat'].idxmin(), 'pathway']\n",
    "max_pathway = filtered_results.loc[filtered_results['stat'].idxmax(), 'pathway']\n",
    "\n",
    "print(\"Ścieżka z najniższą wartością stat:\", min_pathway)\n",
    "print(\"Ścieżka z najwyższą wartością stat:\", max_pathway)\n"
   ]
  }
 ],
 "metadata": {
  "kernelspec": {
   "display_name": "Python 3",
   "language": "python",
   "name": "python3"
  },
  "language_info": {
   "codemirror_mode": {
    "name": "ipython",
    "version": 3
   },
   "file_extension": ".py",
   "mimetype": "text/x-python",
   "name": "python",
   "nbconvert_exporter": "python",
   "pygments_lexer": "ipython3",
   "version": "3.10.12"
  }
 },
 "nbformat": 4,
 "nbformat_minor": 5
}
